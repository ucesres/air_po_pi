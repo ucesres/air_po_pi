{
 "cells": [
  {
   "cell_type": "code",
   "execution_count": 1,
   "metadata": {
    "collapsed": true
   },
   "outputs": [],
   "source": [
    "import numpy, math"
   ]
  },
  {
   "cell_type": "code",
   "execution_count": 2,
   "metadata": {
    "collapsed": true
   },
   "outputs": [],
   "source": [
    "import numpy.polynomial.polynomial as poly\n",
    "import matplotlib.pyplot as plt"
   ]
  },
  {
   "cell_type": "markdown",
   "metadata": {},
   "source": [
    "# MQ135"
   ]
  },
  {
   "cell_type": "markdown",
   "metadata": {},
   "source": [
    "calibrate MQ135 for CO2\n",
    "convert sensor output to gas reading\n",
    "http://davidegironi.blogspot.co.uk/2014/01/cheap-co2-meter-using-mq135-sensor-with.html"
   ]
  },
  {
   "cell_type": "markdown",
   "metadata": {},
   "source": [
    "\n",
    "ppm = a*(Rs/Ro)^b\n",
    "using the datasheet graph the values \n",
    "ppm = 116.6020682 (Rs/Ro)^-2.769034857\n",
    "notes that the datasheet graph is basic\n",
    "assuming that the value initially shown by the sensor\n",
    "1450 = 116.6020682*((50308/Ro)**-2.769034857)\n",
    "Ro = 19877551 *exp(ln(116.6020682/1450)/-2.769034857)\n",
    "\n",
    "#using python syntax\n",
    "Ro =19877551*(math.exp(numpy.log(116.6020682/1450)/-2.769034857))\n",
    "Ro = 49395270.0633941\n",
    "ppm = 116.6020682 (Rs/49395270.0633941)**-2.769034857\n"
   ]
  },
  {
   "cell_type": "code",
   "execution_count": 16,
   "metadata": {
    "collapsed": true
   },
   "outputs": [],
   "source": [
    "Ro =19877551*(math.exp(numpy.log(116.6020682/1450)/-2.769034857))"
   ]
  },
  {
   "cell_type": "code",
   "execution_count": 17,
   "metadata": {
    "collapsed": false
   },
   "outputs": [
    {
     "data": {
      "text/plain": [
       "49395270.0633941"
      ]
     },
     "execution_count": 17,
     "metadata": {},
     "output_type": "execute_result"
    }
   ],
   "source": [
    "Ro"
   ]
  },
  {
   "cell_type": "markdown",
   "metadata": {},
   "source": [
    "second reading\n",
    "1616 on sams sensor\n",
    "15238095 (though this changes)\n",
    "\n",
    "Ro =15238095*(math.exp(numpy.log(116.6020682/1616)/-2.769034857))\n",
    "\n"
   ]
  },
  {
   "cell_type": "code",
   "execution_count": 6,
   "metadata": {
    "collapsed": false
   },
   "outputs": [],
   "source": [
    "Ro =15238095*(math.exp(numpy.log(116.6020682/1616)/-2.769034857))\n",
    "\n",
    "t = 24.6 C\n",
    "RH = 43.3"
   ]
  },
  {
   "cell_type": "code",
   "execution_count": 7,
   "metadata": {
    "collapsed": false
   },
   "outputs": [
    {
     "data": {
      "text/plain": [
       "39377947.764894806"
      ]
     },
     "execution_count": 7,
     "metadata": {},
     "output_type": "execute_result"
    }
   ],
   "source": [
    "Ro"
   ]
  },
  {
   "cell_type": "code",
   "execution_count": 18,
   "metadata": {
    "collapsed": false
   },
   "outputs": [],
   "source": [
    "Ro =16338983.0508*(math.exp(numpy.log(116.6020682/1806)/-2.769034857))\n",
    "\n",
    "t = 24.5 \n",
    "RH = 44.2"
   ]
  },
  {
   "cell_type": "code",
   "execution_count": 19,
   "metadata": {
    "collapsed": false
   },
   "outputs": [
    {
     "data": {
      "text/plain": [
       "43952319.39951422"
      ]
     },
     "execution_count": 19,
     "metadata": {},
     "output_type": "execute_result"
    }
   ],
   "source": [
    "Ro"
   ]
  },
  {
   "cell_type": "code",
   "execution_count": 5,
   "metadata": {
    "collapsed": true
   },
   "outputs": [],
   "source": [
    "Ro =14738461.53*(math.exp(numpy.log(116.6020682/1903)/-2.769034857))\n",
    "t = 24.3\n",
    "RH = 45.9"
   ]
  },
  {
   "cell_type": "code",
   "execution_count": 6,
   "metadata": {
    "collapsed": false
   },
   "outputs": [
    {
     "data": {
      "text/plain": [
       "40403066.59595728"
      ]
     },
     "execution_count": 6,
     "metadata": {},
     "output_type": "execute_result"
    }
   ],
   "source": [
    "Ro"
   ]
  },
  {
   "cell_type": "markdown",
   "metadata": {
    "collapsed": true
   },
   "source": [
    "# MQ135 Temperature and RH adjustment\n"
   ]
  },
  {
   "cell_type": "code",
   "execution_count": 8,
   "metadata": {
    "collapsed": true
   },
   "outputs": [],
   "source": [
    "t_c = [-10,0, 5,10,20,30,40,50]\n",
    "\n",
    "# 33 RH\n",
    "rs_ro = [1.7,1.4,1.25,1.1,1,0.95,0.925,0.9] \n",
    "# 85 RH\n",
    "rs_ro_85 = [1.55,1.25,1.15,1.05,0.9,0.85,0.82,0.8]\n",
    "# in between"
   ]
  },
  {
   "cell_type": "code",
   "execution_count": 26,
   "metadata": {
    "collapsed": false
   },
   "outputs": [],
   "source": [
    "\n",
    "\n",
    "def rs_ro_at_varying_RH(new_rh):\n",
    "    # assuming that 33< rh <85 \n",
    "    # 33 RH\n",
    "    rs_ro = [1.7,1.4,1.25,1.1,1,0.95,0.925,0.9] \n",
    "    # 85 RH\n",
    "    rs_ro_85 = [1.55,1.25,1.15,1.05,0.9,0.85,0.82,0.8]\n",
    "    # in between\n",
    "    new_diff = new_rh -33\n",
    "    rh_diff = 85 - 33\n",
    "    rs_ro_new = []\n",
    "    for rs in range(0,len(rs_ro)):\n",
    "        diff = (  rs_ro[rs] - rs_ro_85[rs]) / rh_diff#\n",
    "        nw_rso = rs_ro[rs] - (diff * new_diff) \n",
    "        rs_ro_new.append(nw_rso)\n",
    "    return rs_ro_new"
   ]
  },
  {
   "cell_type": "code",
   "execution_count": null,
   "metadata": {
    "collapsed": false
   },
   "outputs": [],
   "source": [
    "\n"
   ]
  },
  {
   "cell_type": "code",
   "execution_count": 10,
   "metadata": {
    "collapsed": false
   },
   "outputs": [],
   "source": [
    "coefs = poly.polyfit(t_c,rs_ro,3)\n",
    "coefs2 = poly.polyfit(t_c,rs_ro_85,3)\n",
    "t_new=[]\n",
    "for i in t_c:\n",
    "    t_new.append(i+0.1)"
   ]
  },
  {
   "cell_type": "code",
   "execution_count": 11,
   "metadata": {
    "collapsed": true
   },
   "outputs": [],
   "source": [
    "ffit = poly.polyval(t_new,coefs)\n",
    "ffit2 = poly.polyval(t_new,coefs2)"
   ]
  },
  {
   "cell_type": "code",
   "execution_count": 12,
   "metadata": {
    "collapsed": false
   },
   "outputs": [
    {
     "data": {
      "image/png": "[encoded data removed]",
      "text/plain": [
       "<matplotlib.figure.Figure at 0x6fe577f0>"
      ]
     },
     "metadata": {},
     "output_type": "display_data"
    }
   ],
   "source": [
    "plt.plot(t_new,ffit, color = 'green', label = '33')\n",
    "plt.plot(t_new,ffit2, color = 'blue', label = '85')\n",
    "plt.plot(t_c, rs_ro, color='red')\n",
    "plt.plot(t_c, rs_ro_85, color='red')\n",
    "plt\n",
    "plt.show()"
   ]
  },
  {
   "cell_type": "code",
   "execution_count": 13,
   "metadata": {
    "collapsed": false
   },
   "outputs": [
    {
     "data": {
      "text/plain": [
       "array([ 1.7089461 ,  1.36245907,  1.23622589,  1.13685196,  1.00523888,\n",
       "        0.94073392,  0.91645118,  0.90550475])"
      ]
     },
     "execution_count": 13,
     "metadata": {},
     "output_type": "execute_result"
    }
   ],
   "source": [
    "ffit"
   ]
  },
  {
   "cell_type": "code",
   "execution_count": 14,
   "metadata": {
    "collapsed": true
   },
   "outputs": [],
   "source": [
    "it = poly.polyval(24.6,coefs)"
   ]
  },
  {
   "cell_type": "code",
   "execution_count": 15,
   "metadata": {
    "collapsed": false
   },
   "outputs": [
    {
     "data": {
      "text/plain": [
       "0.96951512683301233"
      ]
     },
     "execution_count": 15,
     "metadata": {},
     "output_type": "execute_result"
    }
   ],
   "source": [
    "it"
   ]
  },
  {
   "cell_type": "code",
   "execution_count": 28,
   "metadata": {
    "collapsed": false
   },
   "outputs": [
    {
     "data": {
      "text/plain": [
       "[1.5788461538461538,\n",
       " 1.2788461538461537,\n",
       " 1.169230769230769,\n",
       " 1.0596153846153846,\n",
       " 0.9192307692307693,\n",
       " 0.8692307692307693,\n",
       " 0.8401923076923077,\n",
       " 0.8192307692307692]"
      ]
     },
     "execution_count": 28,
     "metadata": {},
     "output_type": "execute_result"
    }
   ],
   "source": [
    "new_rs = rs_ro_at_varying_RH(75)"
   ]
  },
  {
   "cell_type": "code",
   "execution_count": 31,
   "metadata": {
    "collapsed": false
   },
   "outputs": [
    {
     "data": {
      "image/png": "[encoded data removed]",
      "text/plain": [
       "<matplotlib.figure.Figure at 0x6fd108f0>"
      ]
     },
     "metadata": {},
     "output_type": "display_data"
    },
    {
     "data": {
      "text/plain": [
       "0.95255232830140435"
      ]
     },
     "execution_count": 31,
     "metadata": {},
     "output_type": "execute_result"
    }
   ],
   "source": [
    "# mq135 temperature correction factor\n",
    "# import function and modules as above\n",
    "current_RH = 45\n",
    "temperature = 24\n",
    "new_rs = rs_ro_at_varying_RH(current_RH)\n",
    "t_c = [-10,0, 5,10,20,30,40,50]\n",
    "coefs = poly.polyfit(t_c,new_rs,3)\n",
    "ffit = poly.polyval(t_c,coefs)\n",
    "# 33 RH - for reference\n",
    "rs_ro = [1.7,1.4,1.25,1.1,1,0.95,0.925,0.9] \n",
    "# 85 RH\n",
    "rs_ro_85 = [1.55,1.25,1.15,1.05,0.9,0.85,0.82,0.8]\n",
    "plt.plot(t_c,ffit, color = 'green', label = current_RH)\n",
    "plt.plot(t_c, rs_ro, color='blue', label = '33')\n",
    "plt.plot(t_c, rs_ro_85, color='red', label = '45')\n",
    "plt.legend()\n",
    "plt.xlabel('t')\n",
    "plt.ylabel('rs/ro')\n",
    "plt.show()\n",
    "poly.polyval(temperature,coefs)"
   ]
  },
  {
   "cell_type": "markdown",
   "metadata": {},
   "source": [
    "# Lux"
   ]
  },
  {
   "cell_type": "code",
   "execution_count": 35,
   "metadata": {
    "collapsed": false
   },
   "outputs": [
    {
     "data": {
      "text/plain": [
       "6.480618216460208e+23"
      ]
     },
     "execution_count": 35,
     "metadata": {},
     "output_type": "execute_result"
    }
   ],
   "source": [
    "(0.1/42403066)**-2.76"
   ]
  },
  {
   "cell_type": "code",
   "execution_count": null,
   "metadata": {
    "collapsed": true
   },
   "outputs": [],
   "source": []
  }
 ],
 "metadata": {
  "kernelspec": {
   "display_name": "Python 2",
   "language": "python",
   "name": "python2"
  },
  "language_info": {
   "codemirror_mode": {
    "name": "ipython",
    "version": 2
   },
   "file_extension": ".py",
   "mimetype": "text/x-python",
   "name": "python",
   "nbconvert_exporter": "python",
   "pygments_lexer": "ipython2",
   "version": "2.7.9"
  }
 },
 "nbformat": 4,
 "nbformat_minor": 1
}
