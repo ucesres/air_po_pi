{
 "cells": [
  {
   "cell_type": "code",
   "execution_count": 2,
   "metadata": {
    "collapsed": true
   },
   "outputs": [],
   "source": [
    "import matplotlib.pyplot as plt\n",
    "import numpy\n"
   ]
  },
  {
   "cell_type": "code",
   "execution_count": 3,
   "metadata": {
    "collapsed": false
   },
   "outputs": [
    {
     "data": {
      "text/plain": [
       "array([ 1.82968412, -1.92055969])"
      ]
     },
     "execution_count": 3,
     "metadata": {},
     "output_type": "execute_result"
    }
   ],
   "source": [
    "NO2_conc = [10,20,30,40,50,60,70,80,90,100,200,300,400,500,600,700,800,900] \n",
    "rs_ro = [3,4,5.5,8,11,15,19,25,30,35,150,350,800,1100,1900,2500,3500,4500]\n",
    "numpy.polyfit(numpy.log10(NO2_conc),numpy.log10(rs_ro),1)\n"
   ]
  },
  {
   "cell_type": "code",
   "execution_count": 4,
   "metadata": {
    "collapsed": true
   },
   "outputs": [],
   "source": [
    "import numpy.polynomial.polynomial as poly\n"
   ]
  },
  {
   "cell_type": "code",
   "execution_count": 5,
   "metadata": {
    "collapsed": false
   },
   "outputs": [
    {
     "data": {
      "text/plain": [
       "array([-1.92055969,  1.82968412])"
      ]
     },
     "execution_count": 5,
     "metadata": {},
     "output_type": "execute_result"
    }
   ],
   "source": [
    "poly.polyfit(numpy.log10(NO2_conc),numpy.log10(rs_ro),1)"
   ]
  },
  {
   "cell_type": "code",
   "execution_count": 9,
   "metadata": {
    "collapsed": true
   },
   "outputs": [],
   "source": [
    "coefs = poly.polyfit(numpy.log10(NO2_conc),numpy.log10(rs_ro),2)"
   ]
  },
  {
   "cell_type": "code",
   "execution_count": 15,
   "metadata": {
    "collapsed": true
   },
   "outputs": [],
   "source": [
    "x_new=[]\n",
    "for i in NO2_conc:\n",
    "    x_new.append(i+0.5)"
   ]
  },
  {
   "cell_type": "code",
   "execution_count": 16,
   "metadata": {
    "collapsed": false
   },
   "outputs": [],
   "source": [
    "ffit = poly.polyval(x_new,coefs)"
   ]
  },
  {
   "cell_type": "code",
   "execution_count": 25,
   "metadata": {
    "collapsed": false
   },
   "outputs": [
    {
     "data": {
      "text/plain": [
       "[<matplotlib.lines.Line2D at 0x823a5f0>]"
      ]
     },
     "execution_count": 25,
     "metadata": {},
     "output_type": "execute_result"
    }
   ],
   "source": [
    "plt.plot(x_new,ffit)\n",
    "plt.plot(NO2_conc, rs_ro)"
   ]
  },
  {
   "cell_type": "code",
   "execution_count": null,
   "metadata": {
    "collapsed": true
   },
   "outputs": [],
   "source": [
    "plt.show()\n"
   ]
  },
  {
   "cell_type": "code",
   "execution_count": 24,
   "metadata": {
    "collapsed": false
   },
   "outputs": [
    {
     "data": {
      "text/plain": [
       "array([  1.21976388e+02,   5.04330850e+02,   1.14746877e+03,\n",
       "         2.05139015e+03,   3.21609499e+03,   4.64158329e+03,\n",
       "         6.32785505e+03,   8.27491027e+03,   1.04827489e+04,\n",
       "         1.29513711e+04,   5.19806827e+04,   1.17088340e+05,\n",
       "         2.08274344e+05,   3.25538693e+05,   4.68881389e+05,\n",
       "         6.38302430e+05,   8.33801817e+05,   1.05537955e+06])"
      ]
     },
     "execution_count": 24,
     "metadata": {},
     "output_type": "execute_result"
    }
   ],
   "source": [
    "ffit"
   ]
  },
  {
   "cell_type": "code",
   "execution_count": 23,
   "metadata": {
    "collapsed": false
   },
   "outputs": [
    {
     "data": {
      "text/plain": [
       "[15.0,\n",
       " 30.0,\n",
       " 45.0,\n",
       " 60.0,\n",
       " 75.0,\n",
       " 90.0,\n",
       " 105.0,\n",
       " 120.0,\n",
       " 135.0,\n",
       " 150.0,\n",
       " 300.0,\n",
       " 450.0,\n",
       " 600.0,\n",
       " 750.0,\n",
       " 900.0,\n",
       " 1050.0,\n",
       " 1200.0,\n",
       " 1350.0]"
      ]
     },
     "execution_count": 23,
     "metadata": {},
     "output_type": "execute_result"
    }
   ],
   "source": [
    "x_new"
   ]
  },
  {
   "cell_type": "code",
   "execution_count": null,
   "metadata": {
    "collapsed": true
   },
   "outputs": [],
   "source": []
  }
 ],
 "metadata": {
  "kernelspec": {
   "display_name": "Python 2",
   "language": "python",
   "name": "python2"
  },
  "language_info": {
   "codemirror_mode": {
    "name": "ipython",
    "version": 2
   },
   "file_extension": ".py",
   "mimetype": "text/x-python",
   "name": "python",
   "nbconvert_exporter": "python",
   "pygments_lexer": "ipython2",
   "version": "2.7.9"
  }
 },
 "nbformat": 4,
 "nbformat_minor": 0
}
