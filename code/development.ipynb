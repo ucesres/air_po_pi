{
 "cells": [
  {
   "cell_type": "code",
   "execution_count": 1,
   "metadata": {
    "collapsed": true
   },
   "outputs": [],
   "source": [
    "import matplotlib.pyplot as plt\n",
    "import numpy\n"
   ]
  },
  {
   "cell_type": "code",
   "execution_count": 2,
   "metadata": {
    "collapsed": false
   },
   "outputs": [],
   "source": [
    "NO2_conc = [0,10,20,30,40,50,60,70,80,90,100,200,300,400,500,600,700,800,900] \n",
    "rs_ro = [0,3,4,5.5,8,11,15,19,25,30,35,150,350,800,1100,1900,2500,3500,4500]\n"
   ]
  },
  {
   "cell_type": "code",
   "execution_count": 3,
   "metadata": {
    "collapsed": true
   },
   "outputs": [],
   "source": [
    "import numpy.polynomial.polynomial as poly\n"
   ]
  },
  {
   "cell_type": "code",
   "execution_count": 6,
   "metadata": {
    "collapsed": false
   },
   "outputs": [],
   "source": [
    "coefs = poly.polyfit(NO2_conc,rs_ro,7)"
   ]
  },
  {
   "cell_type": "code",
   "execution_count": 7,
   "metadata": {
    "collapsed": true
   },
   "outputs": [],
   "source": [
    "x_new=[]\n",
    "for i in NO2_conc:\n",
    "    x_new.append(i+0.5)"
   ]
  },
  {
   "cell_type": "code",
   "execution_count": 8,
   "metadata": {
    "collapsed": false
   },
   "outputs": [],
   "source": [
    "ffit = poly.polyval(x_new,coefs)"
   ]
  },
  {
   "cell_type": "code",
   "execution_count": 9,
   "metadata": {
    "collapsed": false
   },
   "outputs": [
    {
     "data": {
      "image/png": "[encoded data removed]",
      "text/plain": [
       "<matplotlib.figure.Figure at 0x6fe0f570>"
      ]
     },
     "metadata": {},
     "output_type": "display_data"
    }
   ],
   "source": [
    "plt.plot(x_new,ffit)\n",
    "plt.plot(NO2_conc, rs_ro, color='red')\n",
    "\n",
    "plt.show()"
   ]
  },
  {
   "cell_type": "code",
   "execution_count": 46,
   "metadata": {
    "collapsed": true
   },
   "outputs": [],
   "source": [
    "\n"
   ]
  },
  {
   "cell_type": "code",
   "execution_count": null,
   "metadata": {
    "collapsed": false
   },
   "outputs": [],
   "source": [
    "\n"
   ]
  },
  {
   "cell_type": "code",
   "execution_count": 44,
   "metadata": {
    "collapsed": false
   },
   "outputs": [
    {
     "data": {
      "text/plain": [
       "[0,\n",
       " 3,\n",
       " 4,\n",
       " 5.5,\n",
       " 8,\n",
       " 11,\n",
       " 15,\n",
       " 19,\n",
       " 25,\n",
       " 30,\n",
       " 35,\n",
       " 150,\n",
       " 350,\n",
       " 800,\n",
       " 1100,\n",
       " 1900,\n",
       " 2500,\n",
       " 3500,\n",
       " 4500]"
      ]
     },
     "execution_count": 44,
     "metadata": {},
     "output_type": "execute_result"
    }
   ],
   "source": [
    "rs_ro"
   ]
  },
  {
   "cell_type": "code",
   "execution_count": 35,
   "metadata": {
    "collapsed": false
   },
   "outputs": [
    {
     "data": {
      "text/plain": [
       "array([  2.07896350e+00,   2.31876631e+00,   3.38500756e+00,\n",
       "         5.20353015e+00,   7.72157092e+00,   1.09051731e+01,\n",
       "         1.47367665e+01,   1.92129112e+01,   2.43421986e+01,\n",
       "         3.01433077e+01,   3.66432083e+01,   1.49032532e+02,\n",
       "         3.75234843e+02,   7.31743545e+02,   1.20951403e+03,\n",
       "         1.80721889e+03,   2.55618013e+03,   3.48935642e+03,\n",
       "         4.50676384e+03])"
      ]
     },
     "execution_count": 35,
     "metadata": {},
     "output_type": "execute_result"
    }
   ],
   "source": [
    "ffit\n"
   ]
  },
  {
   "cell_type": "code",
   "execution_count": 47,
   "metadata": {
    "collapsed": false
   },
   "outputs": [],
   "source": [
    "test_equation =[]\n",
    "for x in NO2_conc:\n",
    "    test_equation.append((-9.44876820e-17*(x)**7) +(2.53336415e-13*(x)**6) -(2.53021577e-10 *(x)**5)+(1.13387935e-07 *(x)**4) -(1.87428761e-05*(x)**3) +(4.64041545e-03*(x)**2) -(2.50294293e-02*(x))+2.09032045)"
   ]
  },
  {
   "cell_type": "code",
   "execution_count": 48,
   "metadata": {
    "collapsed": false
   },
   "outputs": [
    {
     "data": {
      "text/plain": [
       "[2.09032045,\n",
       " 2.2864336554838385,\n",
       " 3.3133035283399273,\n",
       " 5.09563224012983,\n",
       " 7.579649816809221,\n",
       " 10.730518011420314,\n",
       " 14.52990229246556,\n",
       " 18.97370718578346,\n",
       " 24.069970207747343,\n",
       " 29.836909627607838,\n",
       " 36.3011212968,\n",
       " 148.2159233804,\n",
       " 373.7788593315999,\n",
       " 729.6484755012001,\n",
       " 1206.8380808,\n",
       " 1803.892939154798,\n",
       " 2551.9825138523956,\n",
       " 3484.2859720436,\n",
       " 4502.049157679183]"
      ]
     },
     "execution_count": 48,
     "metadata": {},
     "output_type": "execute_result"
    }
   ],
   "source": [
    "test_equation\n"
   ]
  },
  {
   "cell_type": "code",
   "execution_count": 37,
   "metadata": {
    "collapsed": false
   },
   "outputs": [],
   "source": [
    "x = [2.53240, 1.91110, 1.18430, 0.95784, 0.33158,\n",
    "     -0.19506, -0.82144, -1.64770, -1.87450, -2.2010]\n",
    "\n",
    "y = [-2.50400, -1.62600, -1.17600, -0.87400, -0.64900,\n",
    "     -0.477000, -0.33400, -0.20600, -0.10100, -0.00600]\n",
    "\n",
    "coefficients = poly.polyfit(x, y, 6)"
   ]
  },
  {
   "cell_type": "code",
   "execution_count": 38,
   "metadata": {
    "collapsed": false
   },
   "outputs": [
    {
     "data": {
      "text/plain": [
       "array([-0.5139088 , -0.30660343, -0.17468383, -0.02020429,  0.03629611,\n",
       "       -0.00160756, -0.00412906])"
      ]
     },
     "execution_count": 38,
     "metadata": {},
     "output_type": "execute_result"
    }
   ],
   "source": [
    "coefficients"
   ]
  },
  {
   "cell_type": "code",
   "execution_count": null,
   "metadata": {
    "collapsed": true
   },
   "outputs": [],
   "source": [
    "rs/ro = 66875.5\n",
    "ppb = between 10 and 45 (can be significantly more in homes)\n",
    "assume for now it is 15\n",
    "\n"
   ]
  },
  {
   "cell_type": "code",
   "execution_count": 49,
   "metadata": {
    "collapsed": true
   },
   "outputs": [],
   "source": [
    "x =15\n",
    "ans = (-9.44876820e-17*(x)**7) +(2.53336415e-13*(x)**6) -(2.53021577e-10 *(x)**5)+(1.13387935e-07 *(x)**4) -(1.87428761e-05*(x)**3) +(4.64041545e-03*(x)**2) -(2.50294293e-02*(x))+2.09032045"
   ]
  },
  {
   "cell_type": "code",
   "execution_count": 50,
   "metadata": {
    "collapsed": false
   },
   "outputs": [
    {
     "data": {
      "text/plain": [
       "2.7012662753778365"
      ]
     },
     "execution_count": 50,
     "metadata": {},
     "output_type": "execute_result"
    }
   ],
   "source": [
    "ans"
   ]
  },
  {
   "cell_type": "code",
   "execution_count": 10,
   "metadata": {
    "collapsed": false
   },
   "outputs": [
    {
     "data": {
      "text/plain": [
       "2.7012662751092864"
      ]
     },
     "execution_count": 10,
     "metadata": {},
     "output_type": "execute_result"
    }
   ],
   "source": [
    "poly.polyval(15,coefs) # rs/ro"
   ]
  },
  {
   "cell_type": "code",
   "execution_count": 11,
   "metadata": {
    "collapsed": false
   },
   "outputs": [
    {
     "data": {
      "text/plain": [
       "24757.09285538479"
      ]
     },
     "execution_count": 11,
     "metadata": {},
     "output_type": "execute_result"
    }
   ],
   "source": [
    "66875.5/2.7012662751092864"
   ]
  },
  {
   "cell_type": "code",
   "execution_count": null,
   "metadata": {
    "collapsed": true
   },
   "outputs": [],
   "source": []
  }
 ],
 "metadata": {
  "kernelspec": {
   "display_name": "Python 2",
   "language": "python",
   "name": "python2"
  },
  "language_info": {
   "codemirror_mode": {
    "name": "ipython",
    "version": 2
   },
   "file_extension": ".py",
   "mimetype": "text/x-python",
   "name": "python",
   "nbconvert_exporter": "python",
   "pygments_lexer": "ipython2",
   "version": "2.7.9"
  }
 },
 "nbformat": 4,
 "nbformat_minor": 0
}
